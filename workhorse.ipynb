{
 "cells": [
  {
   "cell_type": "code",
   "execution_count": 23,
   "metadata": {},
   "outputs": [],
   "source": [
    "import requests\n",
    "import cartopy.crs as ccrs\n",
    "import cartopy.feature as cfeature\n",
    "import matplotlib.pyplot as plt\n",
    "from matplotlib.collections import PatchCollection\n",
    "from matplotlib.patches import Polygon as mplPolygon\n",
    "from matplotlib.patches import Patch\n",
    "import matplotlib.patches as mpatches\n",
    "from cartopy.mpl.geoaxes import GeoAxes\n",
    "import metpy\n",
    "from metpy.io import parse_metar_file\n",
    "from metpy.plots import USCOUNTIES\n",
    "import pandas as pd"
   ]
  },
  {
   "cell_type": "code",
   "execution_count": 64,
   "metadata": {},
   "outputs": [
    {
     "name": "stdout",
     "output_type": "stream",
     "text": [
      "776\n",
      "161\n",
      "82.81750266808965\n",
      "17.18249733191035\n"
     ]
    }
   ],
   "source": [
    "url = 'https://mesonet.agron.iastate.edu/cgi-bin/request/asos.py?station=ACB&station=ADG&station=AMN&station=ANJ&station=APN&station=ARB&station=AZO&station=BAX&station=BEH&station=BIV&station=BTL&station=CAD&station=CFS&station=CIU&station=CMX&station=CVX&station=D95&station=DET&station=DRM&station=DTW&station=DUH&station=ERY&station=ESC&station=FFX&station=FKS&station=FNT&station=FPK&station=GLR&station=GOV&station=GRR&station=HAI&station=HTL&station=HYX&station=IKW&station=IMT&station=IRS&station=ISQ&station=IWD&station=JXN&station=JYM&station=LAN&station=LDM&station=LWA&station=MBL&station=MBS&station=MCD&station=MGN&station=MKG&station=MNM&station=MOP&station=MTC&station=OEB&station=ONZ&station=OSC&station=OZW&station=P53&station=P58&station=P59&station=P75&station=PHN&station=PLN&station=PTK&station=PZQ&station=RMY&station=RNP&station=RQB&station=SAW&station=SJX&station=SLH&station=TEW&station=TTF&station=TVC&station=VLL&station=Y31&station=Y70&station=YIP&data=all&year1=2022&month1=11&day1=18&year2=2022&month2=11&day2=19&tz=Etc%2FUTC&format=onlycomma&latlon=yes&elev=no&missing=M&trace=T&direct=no&report_type=3&report_type=4'\n",
    "df_parsed = pd.read_csv(url)\n",
    "index_num = len(df_parsed.axes[0])\n",
    "#keep = index_num - 74\n",
    "#df_parsed = df.tail(302)\n",
    "#df_parsed = df_parsed.drop_duplicates(subset=['station'])\n",
    "\n",
    "\n",
    "wx_list = df_parsed['wxcodes'].unique()\n",
    "snow_list = []\n",
    "sum = 0\n",
    "\n",
    "for i in wx_list:\n",
    "    if 'SN' in i:\n",
    "        snow_list.append(i)\n",
    "\n",
    "# county_list = []\n",
    "# for i in df.geometry:\n",
    "#     county_list.append(i.get('coordinates'))\n",
    "#     print(county_list)\n",
    "station_list = ['LWA', 'AZO', 'BTL', 'RMY', 'FPK', 'Y70', 'GRR', 'RQB' , 'LDM', 'FFX', 'MKG', 'BIV']\n",
    "\n",
    "snow_sum = 0\n",
    "total = 0\n",
    "for i in station_list:\n",
    "    total_df = df_parsed[(df_parsed['station'] == i)]\n",
    "    total += len(total_df)\n",
    "    for j in snow_list:\n",
    "        snow_df_parsed = df_parsed[(df_parsed['station'] == i) & (df_parsed['wxcodes'] == j)]\n",
    "        #print(new_df_parsed)\n",
    "        snow_sum += len(snow_df_parsed)\n",
    "\n",
    "no_snow = total - snow_sum\n",
    "\n",
    "print(snow_sum)\n",
    "print(no_snow)\n",
    "print((snow_sum/total)*100)\n",
    "print((no_snow/total)*100)\n",
    "\n"
   ]
  },
  {
   "cell_type": "code",
   "execution_count": 60,
   "metadata": {},
   "outputs": [],
   "source": [
    "url = 'https://mesonet.agron.iastate.edu/geojson/vtec_event.py?wfo=GRR&year=2022&phenomena=WS&etn=4&significance=W'\n",
    "response = requests.get(url)\n",
    "data = response.json()\n",
    "\n",
    "events = data['features']\n",
    "warning_data = []\n",
    "\n",
    "for event in events:\n",
    "    properties = event['properties']\n",
    "    geometry = event['geometry']\n",
    "    id = event['id']\n",
    "    phenomena = properties['phenomena']\n",
    "    eventid = properties['eventid']\n",
    "    warning_data.append([id, phenomena, eventid, geometry])\n",
    "df = pd.DataFrame(warning_data, columns=['id', 'phenomena', 'eventid', 'geometry'])"
   ]
  },
  {
   "cell_type": "code",
   "execution_count": null,
   "metadata": {},
   "outputs": [],
   "source": [
    "for index, row in df.iterrows():\n",
    "    geometry = row['geometry']\n",
    "    \n",
    "    if geometry:\n",
    "        geom_type = geometry['type']\n",
    "        coordinates = geometry['coordinates']\n",
    "        \n",
    "        if geom_type == 'MultiPolygon':\n",
    "            for multi_coords in coordinates:\n",
    "                for coords in multi_coords:\n",
    "                    if isinstance(coords[0][0], float):\n",
    "                        polygon = mplPolygon(coords, closed=True)"
   ]
  }
 ],
 "metadata": {
  "kernelspec": {
   "display_name": "Python 3",
   "language": "python",
   "name": "python3"
  },
  "language_info": {
   "codemirror_mode": {
    "name": "ipython",
    "version": 3
   },
   "file_extension": ".py",
   "mimetype": "text/x-python",
   "name": "python",
   "nbconvert_exporter": "python",
   "pygments_lexer": "ipython3",
   "version": "3.8.12"
  }
 },
 "nbformat": 4,
 "nbformat_minor": 2
}
